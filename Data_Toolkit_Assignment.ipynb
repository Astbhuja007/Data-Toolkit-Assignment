{
  "nbformat": 4,
  "nbformat_minor": 0,
  "metadata": {
    "colab": {
      "provenance": []
    },
    "kernelspec": {
      "name": "python3",
      "display_name": "Python 3"
    },
    "language_info": {
      "name": "python"
    }
  },
  "cells": [
    {
      "cell_type": "markdown",
      "source": [
        "# **THEORETICAL ANSWERS**"
      ],
      "metadata": {
        "id": "c3d5lzKtvNXz"
      }
    },
    {
      "cell_type": "markdown",
      "source": [
        "**Q1. What is NumPy, and why is it widely used in Python?**\n",
        "- NumPy (Numerical Python) is a fundamental Python library for numerical computing. It provides support for large, multi-dimensional arrays and matrices, along with a collection of high-level mathematical functions to operate on these arrays. NumPy is widely used because it offers fast, efficient operations and seamless integration with other libraries like pandas, SciPy, and scikit-learn. It simplifies complex mathematical and statistical calculations, making it essential for data analysis, scientific computing, and machine learning. Its performance and ease of use make it a popular choice among developers and data scientists.\n"
      ],
      "metadata": {
        "id": "v1Vv-2oBvRKR"
      }
    },
    {
      "cell_type": "markdown",
      "source": [
        "**Q2. How does broadcasting work in NumPy?**\n",
        "- Broadcasting in NumPy allows arrays of different shapes to be used in arithmetic operations. When performing operations on two arrays, NumPy compares their shapes element-wise. If the shapes are compatible, it stretches the smaller array across the larger one without copying data. Rules include matching dimensions or having dimensions of size 1. This feature simplifies code and improves performance by avoiding explicit loops. Broadcasting is especially useful in mathematical operations like adding a scalar to a matrix or performing element-wise operations between arrays of different shapes.\n"
      ],
      "metadata": {
        "id": "JTgFkdIGvRHw"
      }
    },
    {
      "cell_type": "markdown",
      "source": [
        "**Q3. What is a Pandas DataFrame?**\n",
        "- A Pandas DataFrame is a two-dimensional, labeled data structure in Python, similar to a table in a database or an Excel spreadsheet. It consists of rows and columns, where each column can hold data of different types (e.g., integers, floats, strings). DataFrames are built on top of NumPy and offer powerful tools for data manipulation, such as filtering, aggregation, merging, and reshaping. They make data analysis easy and efficient by providing intuitive labels for rows and columns and a variety of functions to handle missing data, group data, and perform statistical operations."
      ],
      "metadata": {
        "id": "tbHv8CxCvRFK"
      }
    },
    {
      "cell_type": "markdown",
      "source": [
        "**Q4. Explain the use of the groupby() method in Pandas.**\n",
        "- The groupby() method in Pandas is used for grouping rows of a DataFrame based on one or more columns and then applying a function (like aggregation, transformation, or filtration) to these groups. This allows for powerful data analysis, such as calculating statistics for different categories within the data.\n"
      ],
      "metadata": {
        "id": "8jIl67zevRCr"
      }
    },
    {
      "cell_type": "markdown",
      "source": [
        "**Q5. Why is Seaborn preferred for statistical visualizations?**\n",
        "- Seaborn is preferred for statistical visualizations because it provides a high-level interface for drawing attractive and informative statistical graphics. It's built on Matplotlib and integrates well with Pandas data structures, making it easier to create complex visualizations like heatmaps, violin plots, and pair plots with fewer lines of code. It also has aesthetically pleasing default styles and color palettes."
      ],
      "metadata": {
        "id": "5E3DU8DUvRAW"
      }
    },
    {
      "cell_type": "markdown",
      "source": [
        "**Q6. What are the differences between NumPy arrays and Python lists?**\n",
        "- **Data Type:** NumPy Array is homogeneous (all elements are of the same type) and Python Lists is heterogeneous (can store elements of different types)\n",
        "- **Performance:** NumPy Array is faster for numerical operations, especially with large datasets due to contiguous memory allocation and optimized C implementations and Python Lists is slower for numerical operations, as elements are stored separately in memory.\n",
        "- **Size:** NumPy Array is fixed in size once created (though resizing operations are available) and Python Lists is dynamic in size (can grow or shrink).\n",
        "- **Functionality:** NumPy Array provides vectorized operations, broadcasting, and a wide range of mathematical functions and Python Lists provide basic list operations, no built-in numerical methods like dot product."
      ],
      "metadata": {
        "id": "O4aMzmHSvQ9y"
      }
    },
    {
      "cell_type": "markdown",
      "source": [
        "**Q7. What is a heatmap, and when should it be used?**\n",
        "- A heatmap is a data visualization technique that represents data values using a matrix of colors. Each cell in the matrix corresponds to a value, with color intensity indicating the magnitude. Heatmaps are commonly used to show correlations, patterns, or distributions in large datasets.\n",
        "\n",
        "**They are especially useful when:**\n",
        "\n",
        "- You want to visualize relationships between variables (e.g., correlation matrix).\n",
        "- You need to identify trends, outliers, or clusters in data.\n",
        "- You're comparing data across two categorical dimensions (e.g., time vs. category).\n",
        "\n",
        "Heatmaps are widely used in data analysis, statistics, and machine learning to gain quick insights from complex data."
      ],
      "metadata": {
        "id": "9AXW7HmmvQ7S"
      }
    },
    {
      "cell_type": "markdown",
      "source": [
        "**Q8. What does the term “vectorized operation” mean in NumPy?**\n",
        "- In NumPy, a vectorized operation refers to performing operations on entire arrays (vectors, matrices) without using explicit loops. Instead of iterating through elements one by one, NumPy applies operations element-wise using optimized C-based code under the hood.\n",
        "\n",
        "**For Example:**\n",
        "\n",
        "import numpy as np\n",
        "\n",
        "a = np.array([1, 2, 3])\n",
        "\n",
        "b = np.array([4, 5, 6])\n",
        "\n",
        "c = a + b # vectorized addition\n",
        "\n",
        "This is faster and more concise than using a loop. Vectorized operations improve performance and make code cleaner, especially in large-scale numerical computations."
      ],
      "metadata": {
        "id": "vkRIycMavQ46"
      }
    },
    {
      "cell_type": "markdown",
      "source": [
        "**Q9. How does Matplotlib differ from Plotly?**\n",
        "- Matplotlib and Plotly are both popular Python libraries for data visualization, but they differ in key ways:\n",
        "\n",
        "**1.Interactivity:**\n",
        "- Matplotlib produces static plots (though it can support limited interactivity with widgets).\n",
        "- Plotly creates interactive, zoomable, and hover-friendly charts ideal for web use.\n",
        "\n",
        "**2.Ease of Use:**\n",
        "- Matplotlib offers more control but requires more code for complex visuals.\n",
        "- Plotly is higher-level and easier for creating complex, interactive charts with less code.\n",
        "\n",
        "**3.Customization:**\n",
        "- Matplotlib is highly customizable for static, publication-ready plots.\n",
        "Plotly focuses on visually appealing, interactive dashboards.\n",
        "Output Formats:\n",
        "- Matplotlib is better for static image formats (PDF, PNG).\n",
        "Plotly is better for HTML, web apps, and dashboards.\n",
        "\n",
        "Use Matplotlib for static plots and Plotly for interactive visualizations."
      ],
      "metadata": {
        "id": "Xw6UT3kgvQ2e"
      }
    },
    {
      "cell_type": "markdown",
      "source": [
        "**Q10. What is the significance of hierarchical indexing in Pandas?**\n",
        "- Hierarchical indexing (also called MultiIndexing) in Pandas allows you to have multiple index levels (rows or columns), enabling you to work with higher-dimensional data in a 2D structure like a DataFrame.\n",
        "\n",
        "**Significance of hierarchical indexing:**\n",
        "\n",
        "**1.Organizes complex data:** It allows you to represent and analyze data with multiple levels of grouping, such as year and month or country and city.\n",
        "\n",
        "**2.Flexible slicing and filtering:** You can easily perform operations like subsetting, aggregation, or reshaping using different levels of the index.\n",
        "\n",
        "**3.Improves data presentation:** Makes the data more readable and structured, especially for grouped or time-series data.\n",
        "\n",
        "\n",
        "\n",
        "It's useful in multi-dimensional analysis without needing to reshape your data."
      ],
      "metadata": {
        "id": "g0GpO9JevQz6"
      }
    },
    {
      "cell_type": "markdown",
      "source": [
        "**Q11. What is the role of Seaborn's pairplot() function?**\n",
        "- Seaborn's pairplot() function is used to create a grid of scatter plots for pairwise relationships between variables in a dataset. It helps visualize the interactions between multiple variables, providing a comprehensive overview of their relationships. Additionally, pairplot() can display histograms or KDE plots on the diagonal to show the distribution of each variable.\n",
        "\n",
        "**Role of pairplot():**\n",
        "\n",
        "**1.Exploratory Data Analysis (EDA):** It helps identify patterns, trends, and potential correlations in the data.\n",
        "\n",
        "**2.Visualizing Relationships:** It shows how variables relate to each other (e.g., linear or non-linear).\n",
        "\n",
        "**3.Identifying Outliers:** It can help detect anomalies in data points across multiple variables.\n",
        "\n",
        "\n",
        "This function is especially useful in initial stages of analysis to understand the dataset and inform further statistical modeling."
      ],
      "metadata": {
        "id": "WJzJkvTYvQxi"
      }
    },
    {
      "cell_type": "markdown",
      "source": [
        "**Q12. What is the purpose of the describe() function in Pandas?**\n",
        "- The describe() function in Pandas provides a quick statistical summary of numerical columns in a DataFrame. It calculates key descriptive statistics such as:\n",
        "\n",
        "- **Count:** The number of non-null entries.\n",
        "- **Mean:** The average of the values.\n",
        "- **Standard deviation:** The measure of the spread of the data.\n",
        "- **Min/Max:** The minimum and maximum values.\n",
        "- **25th, 50th, and 75th percentiles:** The quartiles that divide the data into four equal parts.\n",
        "\n",
        "\n",
        "This function is useful for quickly understanding the distribution and central tendencies of the data, and it is often used in Exploratory Data Analysis (EDA) to identify patterns, detect outliers, and make data-driven decisions."
      ],
      "metadata": {
        "id": "mcJvUi5hvQvN"
      }
    },
    {
      "cell_type": "markdown",
      "source": [
        "**Q13. Why is handling missing data important in Pandas?**\n",
        "- Handling missing data is important in Pandas because incomplete or missing data can lead to inaccurate analysis, misleading conclusions, and errors in models. Proper handling ensures that the data analysis remains reliable and robust.\n",
        "\n",
        "**Key reasons include:**\n",
        "\n",
        "**1.Accuracy of Analysis:** Missing values can distort statistical summaries, correlations, and visualizations. Handling them ensures accurate insights.\n",
        "\n",
        "**2.Model Performance:** Many machine learning algorithms require complete data. Unhandled missing values can cause errors or reduce model performance.\n",
        "\n",
        "**3.Data Integrity:** Proper treatment (e.g., filling, dropping, or interpolating) ensures the dataset maintains consistency and reflects real-world scenarios.\n",
        "\n",
        "Pandas offers tools like dropna(), fillna(), and isna() to handle missing data, allowing for more effective and accurate data processing."
      ],
      "metadata": {
        "id": "MXwcqw5cvQsi"
      }
    },
    {
      "cell_type": "markdown",
      "source": [
        "**Q14. What are the benefits of using Plotly for data visualization?**\n",
        "- Plotly offers several benefits for data visualization, making it a popular choice for interactive and web-based visualizations:\n",
        "\n",
        "**1.Interactivity:** Plotly enables highly interactive visualizations, including zooming, panning, and hover-over tooltips, allowing users to explore data dynamically.\n",
        "\n",
        "**2.Aesthetic Appeal:** It provides visually appealing, high-quality plots with rich color schemes, making data more engaging and easier to interpret.\n",
        "\n",
        "**3.Ease of Use:** Plotly's syntax is simple and intuitive, especially for creating complex visualizations like 3D plots, geographical maps, and dashboards, requiring minimal code.\n",
        "\n",
        "**4.Web Integration:** Plotly supports exporting plots as HTML files, making it easy to integrate visualizations into web applications and interactive dashboards.\n",
        "\n",
        "**5.Wide Range of Plots:** It supports a variety of chart types (e.g., line, bar, scatter, pie, contour, and more), including advanced visualizations like heatmaps and geographic maps.\n",
        "\n",
        "**6.Real-Time Data Visualization:** Plotly can be used to create real-time visualizations, ideal for monitoring live data streams.\n",
        "\n",
        "\n",
        "These features make Plotly particularly suited for interactive data exploration, presentations, and web-based applications."
      ],
      "metadata": {
        "id": "Dav-No7ivQqC"
      }
    },
    {
      "cell_type": "markdown",
      "source": [
        "**Q15. How does NumPy handle multidimensional arrays?**\n",
        "\n",
        "- NumPy handles multidimensional arrays using its core ndarray object. An ndarray is a grid of values, all of the same type, and is indexed by a tuple of non-negative integers. It allows for efficient storage and manipulation of data in any number of dimensions (e.g., 1D vectors, 2D matrices, 3D tensors, etc.) through concepts like shape (dimensions of the array) and strides (number of bytes to skip to get to the next element along each dimension)"
      ],
      "metadata": {
        "id": "DYUypwM59spt"
      }
    },
    {
      "cell_type": "markdown",
      "source": [
        "**Q16. What is the role of Bokeh in data visualization?**\n",
        "- The role of Bokeh in data visualization is to provide an interactive visualization library that targets modern web browsers for presentation. It enables high-performance interactivity over large or streaming datasets, allowing users to create complex and customizable interactive plots, dashboards, and data applications in Python, and output them as HTML, JSON, or server-backed applications."
      ],
      "metadata": {
        "id": "juYxicAz9sf9"
      }
    },
    {
      "cell_type": "markdown",
      "source": [
        "**Q17. Explain the difference between apply() and map() in Pandas.**\n",
        "- In Pandas, both apply() and map() are used to apply functions to data, but they have different purposes and use cases:\n",
        "\n",
        "**1.Scope:** apply() works on a DataFrame (along rows or columns) or a Series and map() works only on a Series.\n",
        "\n",
        "**2.Input:** apply() can take a function that operates on an entire Series (for columns/rows) or element-wise and map() can takes a dictionary, Series, or a function that operates element-wise.\n",
        "\n",
        "**3.Flexibility:** apply() is more flexible; can apply functions that return a Series or a scalar and map() is less flexible; primarily for element-wise mapping or substitution.\n",
        "\n",
        "**4.Typical Use:** apply() is applying complex functions, row-wise/column-wise operations, creating new columns based on multiple columns and map() is element-wise transformation, value substitution based on a mapping."
      ],
      "metadata": {
        "id": "T85SfRy-9sYQ"
      }
    },
    {
      "cell_type": "markdown",
      "source": [
        "**Q18. What are some advanced features of NumPy?**\n",
        "- NumPy offers several advanced features that make it a powerful library for numerical computations:\n",
        "\n",
        "**Broadcasting:** Allows performing operations on arrays of different shapes by automatically aligning them based on their dimensions, eliminating the need for explicit loops.\n",
        "\n",
        "**Vectorization:** Enables efficient element-wise operations on arrays without the need for explicit loops, speeding up computations.\n",
        "\n",
        "**Linear Algebra:** Includes functions for matrix multiplication, eigenvalues, singular value decomposition (SVD), and more, allowing advanced mathematical operations.\n",
        "\n",
        "**Random Sampling:** Provides robust random number generation, useful for simulations, statistical sampling, and creating random datasets.\n",
        "\n",
        "**Universal Functions (ufuncs):** Supports fast, element-wise operations with broadcasting, such as trigonometric, arithmetic, and logarithmic functions.\n",
        "\n",
        "**Memory Layout Options:** Supports different memory layouts (C-order, Fortran-order) for optimization in specific operations.\n",
        "\n",
        "These features enable NumPy to handle complex data manipulation and mathematical operations efficiently."
      ],
      "metadata": {
        "id": "juBn-7d99sPe"
      }
    },
    {
      "cell_type": "markdown",
      "source": [
        "**Q19. How does Pandas simplify time series analysis?**\n",
        "- Pandas simplifies time series analysis by providing powerful, built-in tools and data structures that make working with time-based data easier. Key ways Pandas enhances time series analysis include:\n",
        "\n",
        "**Datetime Indexing:** Pandas allows easy conversion of dates and times into 'datetime' objects, enabling you to set time as an index for a DataFrame or Series, which facilitates easy indexing, slicing, and resampling.\n",
        "\n",
        "**Resampling:** You can resample time series data to different frequencies (e.g., converting daily data into monthly data) using functions like 'resample()'. This is helpful for aggregating or downsampling data.\n",
        "\n",
        "**Time Shifting:** Functions like 'shift()' and 'tshift()' enable shifting data in time, making it easier to compute differences, rolling windows, or lagged variables.\n",
        "\n",
        "**Time Zone Handling:** Pandas makes working with time zones easy by allowing you to localize, convert between time zones, and perform operations on timezone-aware data.\n",
        "\n",
        "**Rolling Windows:** With `rolling()', you can compute moving averages or apply other statistics on a sliding window basis, which is crucial for smoothing time series data.\n",
        "\n",
        "**Date Range Generation:** The 'date_range()' function makes it simple to generate time-based indices for creating or manipulating time series data.\n",
        "\n",
        "**Handling Missing Data:** Pandas provides robust methods for handling missing time series data, including forward/backward filling and interpolation, ensuring that time series analysis remains accurate.\n",
        "\n",
        "These features make Pandas an essential tool for analyzing, manipulating, and visualizing time-based data efficiently."
      ],
      "metadata": {
        "id": "DJROMncCBKEp"
      }
    },
    {
      "cell_type": "markdown",
      "source": [
        "**Q20. What is the role of a pivot table in Pandas?**\n",
        "- A pivot table in Pandas is used to summarize and aggregate data in a DataFrame, transforming it into a more meaningful format for analysis. It allows you to group data by one or more columns and apply aggregate functions like sum, mean, or count to generate insights. Pivot tables are useful for reshaping large datasets, comparing multiple variables, and identifying patterns or trends. The pivot_table() function in Pandas simplifies the process of creating these summaries and enables flexible data exploration."
      ],
      "metadata": {
        "id": "R8nqeh0lBNw4"
      }
    },
    {
      "cell_type": "markdown",
      "source": [
        "**Q21. Why is NumPy's array slicing faster than Python's list slicing?**\n",
        "- NumPy's array slicing is faster than Python's list slicing because NumPy arrays are implemented in contiguous memory blocks, allowing direct access to the data without the need for copying. When slicing a NumPy array, a view of the original array is returned, rather than creating a new array, which saves time and memory. In contrast, Python lists require copying the sliced portion into a new list, making the operation slower. NumPy’s underlying C-based implementation also optimizes operations, further improving performance."
      ],
      "metadata": {
        "id": "pxBgBRYcBOXp"
      }
    },
    {
      "cell_type": "markdown",
      "source": [
        "**Q22. What are some common use cases for Seaborn?**\n",
        "- Seaborn is commonly used for:\n",
        "\n",
        "**1.Exploratory Data Analysis (EDA):** Visualizing distributions, correlations, and relationships between variables using plots like histograms, pair plots, and heatmaps.\n",
        "\n",
        "**2.Statistical Visualization:** Creating plots like box plots, violin plots, and bar plots to show data distributions and comparisons.\n",
        "\n",
        "**3.Regression Analysis:** Visualizing regression lines and relationships with scatter plots, linear fit, and residual plots.\n",
        "\n",
        "**4.Categorical Data:** Visualizing categorical data through count plots, bar plots, and swarm plots.\n",
        "\n",
        "**5.Time Series:** Plotting trends over time with line plots.\n",
        "\n"
      ],
      "metadata": {
        "id": "pNsgYZqRBQWd"
      }
    },
    {
      "cell_type": "markdown",
      "source": [
        "# **PRACTICAL ANSWERS**"
      ],
      "metadata": {
        "id": "ZdPMyM5uBQTm"
      }
    },
    {
      "cell_type": "code",
      "source": [
        "#1. How do you create a 2D NumPy array and calculate the sum of each row?\n",
        "\n",
        "\n",
        "import numpy as np\n",
        "\n",
        "# Create a 2D NumPy array\n",
        "arr = np.array([[1, 2, 3], [4, 5, 6], [7, 8, 9]])\n",
        "\n",
        "# Calculate the sum of each row\n",
        "row_sums = arr.sum(axis=1)\n",
        "\n",
        "print(row_sums)\n"
      ],
      "metadata": {
        "colab": {
          "base_uri": "https://localhost:8080/"
        },
        "id": "wts2YNk4FHeG",
        "outputId": "d8149210-3529-455f-b545-7959411fe07e"
      },
      "execution_count": 5,
      "outputs": [
        {
          "output_type": "stream",
          "name": "stdout",
          "text": [
            "[ 6 15 24]\n"
          ]
        }
      ]
    },
    {
      "cell_type": "code",
      "source": [
        "#2. Write a Pandas script to find the mean of a specific column in a DataFrame.\n",
        "\n",
        "import pandas as pd\n",
        "\n",
        "# Sample DataFrame\n",
        "data = {'A': [1, 2, 3, 4, 5], 'B': [5, 6, 7, 8, 9]}\n",
        "df = pd.DataFrame(data)\n",
        "\n",
        "# Find the mean of column 'A'\n",
        "mean_value = df['A'].mean()\n",
        "\n",
        "print(mean_value)"
      ],
      "metadata": {
        "colab": {
          "base_uri": "https://localhost:8080/"
        },
        "id": "xR8LXGi5GHdu",
        "outputId": "4d0b4d6d-0f25-46c4-f183-b422e93afcc5"
      },
      "execution_count": 6,
      "outputs": [
        {
          "output_type": "stream",
          "name": "stdout",
          "text": [
            "3.0\n"
          ]
        }
      ]
    },
    {
      "cell_type": "code",
      "source": [
        "#3.  Create a scatter plot using Matplotlib.\n",
        "\n",
        "import matplotlib.pyplot as plt\n",
        "\n",
        "# Data for the scatter plot\n",
        "x = [1, 2, 3, 4, 5]\n",
        "y = [2, 4, 5, 7, 11]\n",
        "\n",
        "# Create the scatter plot\n",
        "plt.scatter(x, y)\n",
        "\n",
        "# Add labels and title\n",
        "plt.xlabel('X-axis')\n",
        "plt.ylabel('Y-axis')\n",
        "plt.title('Scatter Plot')\n",
        "\n",
        "# Display the plot\n",
        "plt.show()"
      ],
      "metadata": {
        "colab": {
          "base_uri": "https://localhost:8080/",
          "height": 472
        },
        "id": "nz0cdXRjGQe2",
        "outputId": "0da8dbdd-d06f-4e56-dd3c-1175bb9ba672"
      },
      "execution_count": 7,
      "outputs": [
        {
          "output_type": "display_data",
          "data": {
            "text/plain": [
              "<Figure size 640x480 with 1 Axes>"
            ],
            "image/png": "[encoded data removed]"
          },
          "metadata": {}
        }
      ]
    },
    {
      "cell_type": "code",
      "source": [
        "#4.  How do you calculate the correlation matrix using Seaborn and visualize it with a heatmap?\n",
        "\n",
        "import seaborn as sns\n",
        "import pandas as pd\n",
        "import numpy as np\n",
        "\n",
        "# Create a sample DataFrame\n",
        "data = np.random.rand(10, 5)\n",
        "df = pd.DataFrame(data, columns=['A', 'B', 'C', 'D', 'E'])\n",
        "\n",
        "# Calculate the correlation matrix\n",
        "corr_matrix = df.corr()\n",
        "\n",
        "# Create a heatmap to visualize the correlation matrix\n",
        "sns.heatmap(corr_matrix, annot=True, cmap='coolwarm', fmt='.2f')\n",
        "\n",
        "# Display the heatmap\n",
        "plt.show()"
      ],
      "metadata": {
        "colab": {
          "base_uri": "https://localhost:8080/",
          "height": 435
        },
        "id": "6heeqiLtGa1H",
        "outputId": "c251a091-6f6e-4615-c812-2973f07762c7"
      },
      "execution_count": 8,
      "outputs": [
        {
          "output_type": "display_data",
          "data": {
            "text/plain": [
              "<Figure size 640x480 with 2 Axes>"
            ],
            "image/png": "[encoded data removed]"
          },
          "metadata": {}
        }
      ]
    },
    {
      "cell_type": "code",
      "source": [
        "#5. Generate a bar plot using Plotly.\n",
        "\n",
        "import plotly.express as px\n",
        "\n",
        "# Sample data\n",
        "data = {'Category': ['A', 'B', 'C', 'D'], 'Value': [8, 15, 10, 20]}\n",
        "\n",
        "# Create a DataFrame\n",
        "df = pd.DataFrame(data)\n",
        "\n",
        "# Generate a bar plot\n",
        "fig = px.bar(df, x='Category', y='Value', title='Bar Plot Example')\n",
        "\n",
        "# Display the plot\n",
        "fig.show()"
      ],
      "metadata": {
        "colab": {
          "base_uri": "https://localhost:8080/",
          "height": 542
        },
        "id": "zaV5amzEGrV4",
        "outputId": "a1cd80f2-f188-433a-f6f5-2a8c9a7a3d05"
      },
      "execution_count": 11,
      "outputs": [
        {
          "output_type": "display_data",
          "data": {
            "text/html": [
              "<html>\n",
              "<head><meta charset=\"utf-8\" /></head>\n",
              "<body>\n",
              "    <div>            <script src=\"https://cdnjs.cloudflare.com/ajax/libs/mathjax/2.7.5/MathJax.js?config=TeX-AMS-MML_SVG\"></script><script type=\"text/javascript\">if (window.MathJax && window.MathJax.Hub && window.MathJax.Hub.Config) {window.MathJax.Hub.Config({SVG: {font: \"STIX-Web\"}});}</script>                <script type=\"text/javascript\">window.PlotlyConfig = {MathJaxConfig: 'local'};</script>\n",
              "        <script charset=\"utf-8\" src=\"https://cdn.plot.ly/plotly-2.35.2.min.js\"></script>                <div id=\"6445cbf3-ddd3-48a6-8cd2-dd0dbc92d649\" class=\"plotly-graph-div\" style=\"height:525px; width:100%;\"></div>            <script type=\"text/javascript\">                                    window.PLOTLYENV=window.PLOTLYENV || {};                                    if (document.getElementById(\"6445cbf3-ddd3-48a6-8cd2-dd0dbc92d649\")) {                    Plotly.newPlot(                        \"6445cbf3-ddd3-48a6-8cd2-dd0dbc92d649\",                        [{\"alignmentgroup\":\"True\",\"hovertemplate\":\"Category=%{x}\\u003cbr\\u003eValue=%{y}\\u003cextra\\u003e\\u003c\\u002fextra\\u003e\",\"legendgroup\":\"\",\"marker\":{\"color\":\"#636efa\",\"pattern\":{\"shape\":\"\"}},\"name\":\"\",\"offsetgroup\":\"\",\"orientation\":\"v\",\"showlegend\":false,\"textposition\":\"auto\",\"x\":[\"A\",\"B\",\"C\",\"D\"],\"xaxis\":\"x\",\"y\":[8,15,10,20],\"yaxis\":\"y\",\"type\":\"bar\"}],                        {\"template\":{\"data\":{\"histogram2dcontour\":[{\"type\":\"histogram2dcontour\",\"colorbar\":{\"outlinewidth\":0,\"ticks\":\"\"},\"colorscale\":[[0.0,\"#0d0887\"],[0.1111111111111111,\"#46039f\"],[0.2222222222222222,\"#7201a8\"],[0.3333333333333333,\"#9c179e\"],[0.4444444444444444,\"#bd3786\"],[0.5555555555555556,\"#d8576b\"],[0.6666666666666666,\"#ed7953\"],[0.7777777777777778,\"#fb9f3a\"],[0.8888888888888888,\"#fdca26\"],[1.0,\"#f0f921\"]]}],\"choropleth\":[{\"type\":\"choropleth\",\"colorbar\":{\"outlinewidth\":0,\"ticks\":\"\"}}],\"histogram2d\":[{\"type\":\"histogram2d\",\"colorbar\":{\"outlinewidth\":0,\"ticks\":\"\"},\"colorscale\":[[0.0,\"#0d0887\"],[0.1111111111111111,\"#46039f\"],[0.2222222222222222,\"#7201a8\"],[0.3333333333333333,\"#9c179e\"],[0.4444444444444444,\"#bd3786\"],[0.5555555555555556,\"#d8576b\"],[0.6666666666666666,\"#ed7953\"],[0.7777777777777778,\"#fb9f3a\"],[0.8888888888888888,\"#fdca26\"],[1.0,\"#f0f921\"]]}],\"heatmap\":[{\"type\":\"heatmap\",\"colorbar\":{\"outlinewidth\":0,\"ticks\":\"\"},\"colorscale\":[[0.0,\"#0d0887\"],[0.1111111111111111,\"#46039f\"],[0.2222222222222222,\"#7201a8\"],[0.3333333333333333,\"#9c179e\"],[0.4444444444444444,\"#bd3786\"],[0.5555555555555556,\"#d8576b\"],[0.6666666666666666,\"#ed7953\"],[0.7777777777777778,\"#fb9f3a\"],[0.8888888888888888,\"#fdca26\"],[1.0,\"#f0f921\"]]}],\"heatmapgl\":[{\"type\":\"heatmapgl\",\"colorbar\":{\"outlinewidth\":0,\"ticks\":\"\"},\"colorscale\":[[0.0,\"#0d0887\"],[0.1111111111111111,\"#46039f\"],[0.2222222222222222,\"#7201a8\"],[0.3333333333333333,\"#9c179e\"],[0.4444444444444444,\"#bd3786\"],[0.5555555555555556,\"#d8576b\"],[0.6666666666666666,\"#ed7953\"],[0.7777777777777778,\"#fb9f3a\"],[0.8888888888888888,\"#fdca26\"],[1.0,\"#f0f921\"]]}],\"contourcarpet\":[{\"type\":\"contourcarpet\",\"colorbar\":{\"outlinewidth\":0,\"ticks\":\"\"}}],\"contour\":[{\"type\":\"contour\",\"colorbar\":{\"outlinewidth\":0,\"ticks\":\"\"},\"colorscale\":[[0.0,\"#0d0887\"],[0.1111111111111111,\"#46039f\"],[0.2222222222222222,\"#7201a8\"],[0.3333333333333333,\"#9c179e\"],[0.4444444444444444,\"#bd3786\"],[0.5555555555555556,\"#d8576b\"],[0.6666666666666666,\"#ed7953\"],[0.7777777777777778,\"#fb9f3a\"],[0.8888888888888888,\"#fdca26\"],[1.0,\"#f0f921\"]]}],\"surface\":[{\"type\":\"surface\",\"colorbar\":{\"outlinewidth\":0,\"ticks\":\"\"},\"colorscale\":[[0.0,\"#0d0887\"],[0.1111111111111111,\"#46039f\"],[0.2222222222222222,\"#7201a8\"],[0.3333333333333333,\"#9c179e\"],[0.4444444444444444,\"#bd3786\"],[0.5555555555555556,\"#d8576b\"],[0.6666666666666666,\"#ed7953\"],[0.7777777777777778,\"#fb9f3a\"],[0.8888888888888888,\"#fdca26\"],[1.0,\"#f0f921\"]]}],\"mesh3d\":[{\"type\":\"mesh3d\",\"colorbar\":{\"outlinewidth\":0,\"ticks\":\"\"}}],\"scatter\":[{\"fillpattern\":{\"fillmode\":\"overlay\",\"size\":10,\"solidity\":0.2},\"type\":\"scatter\"}],\"parcoords\":[{\"type\":\"parcoords\",\"line\":{\"colorbar\":{\"outlinewidth\":0,\"ticks\":\"\"}}}],\"scatterpolargl\":[{\"type\":\"scatterpolargl\",\"marker\":{\"colorbar\":{\"outlinewidth\":0,\"ticks\":\"\"}}}],\"bar\":[{\"error_x\":{\"color\":\"#2a3f5f\"},\"error_y\":{\"color\":\"#2a3f5f\"},\"marker\":{\"line\":{\"color\":\"#E5ECF6\",\"width\":0.5},\"pattern\":{\"fillmode\":\"overlay\",\"size\":10,\"solidity\":0.2}},\"type\":\"bar\"}],\"scattergeo\":[{\"type\":\"scattergeo\",\"marker\":{\"colorbar\":{\"outlinewidth\":0,\"ticks\":\"\"}}}],\"scatterpolar\":[{\"type\":\"scatterpolar\",\"marker\":{\"colorbar\":{\"outlinewidth\":0,\"ticks\":\"\"}}}],\"histogram\":[{\"marker\":{\"pattern\":{\"fillmode\":\"overlay\",\"size\":10,\"solidity\":0.2}},\"type\":\"histogram\"}],\"scattergl\":[{\"type\":\"scattergl\",\"marker\":{\"colorbar\":{\"outlinewidth\":0,\"ticks\":\"\"}}}],\"scatter3d\":[{\"type\":\"scatter3d\",\"line\":{\"colorbar\":{\"outlinewidth\":0,\"ticks\":\"\"}},\"marker\":{\"colorbar\":{\"outlinewidth\":0,\"ticks\":\"\"}}}],\"scattermapbox\":[{\"type\":\"scattermapbox\",\"marker\":{\"colorbar\":{\"outlinewidth\":0,\"ticks\":\"\"}}}],\"scatterternary\":[{\"type\":\"scatterternary\",\"marker\":{\"colorbar\":{\"outlinewidth\":0,\"ticks\":\"\"}}}],\"scattercarpet\":[{\"type\":\"scattercarpet\",\"marker\":{\"colorbar\":{\"outlinewidth\":0,\"ticks\":\"\"}}}],\"carpet\":[{\"aaxis\":{\"endlinecolor\":\"#2a3f5f\",\"gridcolor\":\"white\",\"linecolor\":\"white\",\"minorgridcolor\":\"white\",\"startlinecolor\":\"#2a3f5f\"},\"baxis\":{\"endlinecolor\":\"#2a3f5f\",\"gridcolor\":\"white\",\"linecolor\":\"white\",\"minorgridcolor\":\"white\",\"startlinecolor\":\"#2a3f5f\"},\"type\":\"carpet\"}],\"table\":[{\"cells\":{\"fill\":{\"color\":\"#EBF0F8\"},\"line\":{\"color\":\"white\"}},\"header\":{\"fill\":{\"color\":\"#C8D4E3\"},\"line\":{\"color\":\"white\"}},\"type\":\"table\"}],\"barpolar\":[{\"marker\":{\"line\":{\"color\":\"#E5ECF6\",\"width\":0.5},\"pattern\":{\"fillmode\":\"overlay\",\"size\":10,\"solidity\":0.2}},\"type\":\"barpolar\"}],\"pie\":[{\"automargin\":true,\"type\":\"pie\"}]},\"layout\":{\"autotypenumbers\":\"strict\",\"colorway\":[\"#636efa\",\"#EF553B\",\"#00cc96\",\"#ab63fa\",\"#FFA15A\",\"#19d3f3\",\"#FF6692\",\"#B6E880\",\"#FF97FF\",\"#FECB52\"],\"font\":{\"color\":\"#2a3f5f\"},\"hovermode\":\"closest\",\"hoverlabel\":{\"align\":\"left\"},\"paper_bgcolor\":\"white\",\"plot_bgcolor\":\"#E5ECF6\",\"polar\":{\"bgcolor\":\"#E5ECF6\",\"angularaxis\":{\"gridcolor\":\"white\",\"linecolor\":\"white\",\"ticks\":\"\"},\"radialaxis\":{\"gridcolor\":\"white\",\"linecolor\":\"white\",\"ticks\":\"\"}},\"ternary\":{\"bgcolor\":\"#E5ECF6\",\"aaxis\":{\"gridcolor\":\"white\",\"linecolor\":\"white\",\"ticks\":\"\"},\"baxis\":{\"gridcolor\":\"white\",\"linecolor\":\"white\",\"ticks\":\"\"},\"caxis\":{\"gridcolor\":\"white\",\"linecolor\":\"white\",\"ticks\":\"\"}},\"coloraxis\":{\"colorbar\":{\"outlinewidth\":0,\"ticks\":\"\"}},\"colorscale\":{\"sequential\":[[0.0,\"#0d0887\"],[0.1111111111111111,\"#46039f\"],[0.2222222222222222,\"#7201a8\"],[0.3333333333333333,\"#9c179e\"],[0.4444444444444444,\"#bd3786\"],[0.5555555555555556,\"#d8576b\"],[0.6666666666666666,\"#ed7953\"],[0.7777777777777778,\"#fb9f3a\"],[0.8888888888888888,\"#fdca26\"],[1.0,\"#f0f921\"]],\"sequentialminus\":[[0.0,\"#0d0887\"],[0.1111111111111111,\"#46039f\"],[0.2222222222222222,\"#7201a8\"],[0.3333333333333333,\"#9c179e\"],[0.4444444444444444,\"#bd3786\"],[0.5555555555555556,\"#d8576b\"],[0.6666666666666666,\"#ed7953\"],[0.7777777777777778,\"#fb9f3a\"],[0.8888888888888888,\"#fdca26\"],[1.0,\"#f0f921\"]],\"diverging\":[[0,\"#8e0152\"],[0.1,\"#c51b7d\"],[0.2,\"#de77ae\"],[0.3,\"#f1b6da\"],[0.4,\"#fde0ef\"],[0.5,\"#f7f7f7\"],[0.6,\"#e6f5d0\"],[0.7,\"#b8e186\"],[0.8,\"#7fbc41\"],[0.9,\"#4d9221\"],[1,\"#276419\"]]},\"xaxis\":{\"gridcolor\":\"white\",\"linecolor\":\"white\",\"ticks\":\"\",\"title\":{\"standoff\":15},\"zerolinecolor\":\"white\",\"automargin\":true,\"zerolinewidth\":2},\"yaxis\":{\"gridcolor\":\"white\",\"linecolor\":\"white\",\"ticks\":\"\",\"title\":{\"standoff\":15},\"zerolinecolor\":\"white\",\"automargin\":true,\"zerolinewidth\":2},\"scene\":{\"xaxis\":{\"backgroundcolor\":\"#E5ECF6\",\"gridcolor\":\"white\",\"linecolor\":\"white\",\"showbackground\":true,\"ticks\":\"\",\"zerolinecolor\":\"white\",\"gridwidth\":2},\"yaxis\":{\"backgroundcolor\":\"#E5ECF6\",\"gridcolor\":\"white\",\"linecolor\":\"white\",\"showbackground\":true,\"ticks\":\"\",\"zerolinecolor\":\"white\",\"gridwidth\":2},\"zaxis\":{\"backgroundcolor\":\"#E5ECF6\",\"gridcolor\":\"white\",\"linecolor\":\"white\",\"showbackground\":true,\"ticks\":\"\",\"zerolinecolor\":\"white\",\"gridwidth\":2}},\"shapedefaults\":{\"line\":{\"color\":\"#2a3f5f\"}},\"annotationdefaults\":{\"arrowcolor\":\"#2a3f5f\",\"arrowhead\":0,\"arrowwidth\":1},\"geo\":{\"bgcolor\":\"white\",\"landcolor\":\"#E5ECF6\",\"subunitcolor\":\"white\",\"showland\":true,\"showlakes\":true,\"lakecolor\":\"white\"},\"title\":{\"x\":0.05},\"mapbox\":{\"style\":\"light\"}}},\"xaxis\":{\"anchor\":\"y\",\"domain\":[0.0,1.0],\"title\":{\"text\":\"Category\"}},\"yaxis\":{\"anchor\":\"x\",\"domain\":[0.0,1.0],\"title\":{\"text\":\"Value\"}},\"legend\":{\"tracegroupgap\":0},\"title\":{\"text\":\"Bar Plot Example\"},\"barmode\":\"relative\"},                        {\"responsive\": true}                    ).then(function(){\n",
              "                            \n",
              "var gd = document.getElementById('6445cbf3-ddd3-48a6-8cd2-dd0dbc92d649');\n",
              "var x = new MutationObserver(function (mutations, observer) {{\n",
              "        var display = window.getComputedStyle(gd).display;\n",
              "        if (!display || display === 'none') {{\n",
              "            console.log([gd, 'removed!']);\n",
              "            Plotly.purge(gd);\n",
              "            observer.disconnect();\n",
              "        }}\n",
              "}});\n",
              "\n",
              "// Listen for the removal of the full notebook cells\n",
              "var notebookContainer = gd.closest('#notebook-container');\n",
              "if (notebookContainer) {{\n",
              "    x.observe(notebookContainer, {childList: true});\n",
              "}}\n",
              "\n",
              "// Listen for the clearing of the current output cell\n",
              "var outputEl = gd.closest('.output');\n",
              "if (outputEl) {{\n",
              "    x.observe(outputEl, {childList: true});\n",
              "}}\n",
              "\n",
              "                        })                };                            </script>        </div>\n",
              "</body>\n",
              "</html>"
            ]
          },
          "metadata": {}
        }
      ]
    },
    {
      "cell_type": "code",
      "source": [
        "#6. Create a DataFrame and add a new column based on an existing column.\n",
        "\n",
        "import pandas as pd\n",
        "\n",
        "# Create a sample DataFrame\n",
        "data = {'A': [1, 2, 3, 4, 5], 'B': [5, 6, 7, 8, 9]}\n",
        "df = pd.DataFrame(data)\n",
        "\n",
        "# Add a new column 'C' based on column 'A'\n",
        "df['C'] = df['A'] * 2\n",
        "\n",
        "# Display the DataFrame\n",
        "print(df)"
      ],
      "metadata": {
        "colab": {
          "base_uri": "https://localhost:8080/"
        },
        "id": "XzAXfyeyHQPA",
        "outputId": "4ab73ae8-446a-4a82-911c-89b889f7be40"
      },
      "execution_count": 12,
      "outputs": [
        {
          "output_type": "stream",
          "name": "stdout",
          "text": [
            "   A  B   C\n",
            "0  1  5   2\n",
            "1  2  6   4\n",
            "2  3  7   6\n",
            "3  4  8   8\n",
            "4  5  9  10\n"
          ]
        }
      ]
    },
    {
      "cell_type": "code",
      "source": [
        "#7. Write a program to perform element-wise multiplication of two NumPy arrays.\n",
        "\n",
        "import numpy as np\n",
        "\n",
        "# Create two NumPy arrays\n",
        "arr1 = np.array([45, 70, 56])\n",
        "arr2 = np.array([12, 26, 46])\n",
        "\n",
        "# Perform element-wise multiplication\n",
        "result = arr1 * arr2\n",
        "\n",
        "# Display the result\n",
        "print(result)"
      ],
      "metadata": {
        "colab": {
          "base_uri": "https://localhost:8080/"
        },
        "id": "8La2b46OHfRZ",
        "outputId": "c3360ca4-5076-4b64-e21e-2c0cafce050a"
      },
      "execution_count": 14,
      "outputs": [
        {
          "output_type": "stream",
          "name": "stdout",
          "text": [
            "[ 540 1820 2576]\n"
          ]
        }
      ]
    },
    {
      "cell_type": "code",
      "source": [
        "#8. Create a line plot with multiple lines using Matplotlib.\n",
        "\n",
        "import matplotlib.pyplot as plt\n",
        "\n",
        "# Data for the line plot\n",
        "x = [1, 2, 3, 4, 5]\n",
        "y1 = [1, 4, 9, 16, 25]\n",
        "y2 = [1, 2, 3, 4, 5]\n",
        "\n",
        "# Create a line plot with multiple lines\n",
        "plt.plot(x, y1, label='y = x^2', color='blue')\n",
        "plt.plot(x, y2, label='y = x', color='green')\n",
        "\n",
        "# Add labels and title\n",
        "plt.xlabel('X-axis')\n",
        "plt.ylabel('Y-axis')\n",
        "plt.title('Multiple Line Plot')\n",
        "\n",
        "# Display the legend\n",
        "plt.legend()\n",
        "\n",
        "# Show the plot\n",
        "plt.show()"
      ],
      "metadata": {
        "colab": {
          "base_uri": "https://localhost:8080/",
          "height": 472
        },
        "id": "uFGCh23cHf_V",
        "outputId": "aa1af4d3-bc9f-4b2b-82d7-f76714c4b2b5"
      },
      "execution_count": 15,
      "outputs": [
        {
          "output_type": "display_data",
          "data": {
            "text/plain": [
              "<Figure size 640x480 with 1 Axes>"
            ],
            "image/png": "[encoded data removed]"
          },
          "metadata": {}
        }
      ]
    },
    {
      "cell_type": "code",
      "source": [
        "#9. Generate a Pandas DataFrame and filter rows where a column value is greater than a threshold.\n",
        "\n",
        "\n",
        "import pandas as pd\n",
        "\n",
        "# Create a sample DataFrame\n",
        "data = {'A': [10, 20, 30, 40, 50], 'B': [5, 15, 25, 35, 45]}\n",
        "df = pd.DataFrame(data)\n",
        "\n",
        "# Filter rows where column 'A' value is greater than 30\n",
        "filtered_df = df[df['A'] > 30]\n",
        "\n",
        "# Display the filtered DataFrame\n",
        "print(filtered_df)\n"
      ],
      "metadata": {
        "colab": {
          "base_uri": "https://localhost:8080/"
        },
        "id": "zbOTIWASHf28",
        "outputId": "66045293-d349-4fd0-822a-6024d9e7840e"
      },
      "execution_count": 16,
      "outputs": [
        {
          "output_type": "stream",
          "name": "stdout",
          "text": [
            "    A   B\n",
            "3  40  35\n",
            "4  50  45\n"
          ]
        }
      ]
    },
    {
      "cell_type": "code",
      "source": [
        "#10. Create a histogram using Seaborn to visualize a distribution.\n",
        "\n",
        "import seaborn as sns\n",
        "import matplotlib.pyplot as plt\n",
        "\n",
        "# Sample data\n",
        "data = [1, 2, 2, 3, 3, 3, 4, 4, 5, 6, 6, 6, 7, 8, 9]\n",
        "\n",
        "# Create a histogram\n",
        "sns.histplot(data, bins=5, kde=True)\n",
        "\n",
        "# Add title and labels\n",
        "plt.title('Histogram with Distribution')\n",
        "plt.xlabel('Values')\n",
        "plt.ylabel('Frequency')\n",
        "\n",
        "# Display the plot\n",
        "plt.show()"
      ],
      "metadata": {
        "colab": {
          "base_uri": "https://localhost:8080/",
          "height": 472
        },
        "id": "NKn_zXtCHfpg",
        "outputId": "d77a8654-a92d-4ddc-eb6a-8a310c002d9f"
      },
      "execution_count": 17,
      "outputs": [
        {
          "output_type": "display_data",
          "data": {
            "text/plain": [
              "<Figure size 640x480 with 1 Axes>"
            ],
            "image/png": "[encoded data removed]"
          },
          "metadata": {}
        }
      ]
    },
    {
      "cell_type": "code",
      "source": [
        "#11. Perform matrix multiplication using NumPy.\n",
        "\n",
        "\n",
        "import numpy as np\n",
        "\n",
        "# Create two matrices\n",
        "matrix1 = np.array([[1, 2], [3, 4]])\n",
        "matrix2 = np.array([[5, 6], [7, 8]])\n",
        "\n",
        "# Perform matrix multiplication\n",
        "result = np.dot(matrix1, matrix2)\n",
        "\n",
        "# Display the result\n",
        "print(result)"
      ],
      "metadata": {
        "colab": {
          "base_uri": "https://localhost:8080/"
        },
        "id": "Gk-OwGInIXK3",
        "outputId": "ae807873-1971-486d-a7e7-f5020f64bf7c"
      },
      "execution_count": 18,
      "outputs": [
        {
          "output_type": "stream",
          "name": "stdout",
          "text": [
            "[[19 22]\n",
            " [43 50]]\n"
          ]
        }
      ]
    },
    {
      "cell_type": "code",
      "source": [
        "#12.  Use Pandas to load a CSV file and display its first 5 rows.\n",
        "\n",
        "import pandas as pd\n",
        "\n",
        "# Create a demo CSV file\n",
        "data = {'Name': ['Ram', 'Shyam', 'Ajay', 'Astbhuja', 'Rohit'],\n",
        "        'Age': [25, 27, 21, 32, 30],\n",
        "        'City': ['Lucknow', 'Kanpur', 'Surat', 'Gorakhpur', 'Delhi']}\n",
        "\n",
        "# Save the data to a CSV file\n",
        "df = pd.DataFrame(data)\n",
        "df.to_csv('demo_data.csv', index=False)\n",
        "\n",
        "# Load the CSV file using Pandas\n",
        "loaded_df = pd.read_csv('demo_data.csv')\n",
        "\n",
        "# Display the first 5 rows\n",
        "print(loaded_df.head())"
      ],
      "metadata": {
        "colab": {
          "base_uri": "https://localhost:8080/"
        },
        "id": "-nqxpeltIW_X",
        "outputId": "5be34d68-7a26-4626-dd02-7b2cd68f6e4e"
      },
      "execution_count": 25,
      "outputs": [
        {
          "output_type": "stream",
          "name": "stdout",
          "text": [
            "       Name  Age       City\n",
            "0       Ram   25    Lucknow\n",
            "1     Shyam   27     Kanpur\n",
            "2      Ajay   21      Surat\n",
            "3  Astbhuja   32  Gorakhpur\n",
            "4     Rohit   30      Delhi\n"
          ]
        }
      ]
    },
    {
      "cell_type": "code",
      "source": [
        "#13. Create a 3D scatter plot using Plotly.\n",
        "\n",
        "import plotly.express as px\n",
        "import pandas as pd\n",
        "\n",
        "# Sample data\n",
        "df = pd.DataFrame({\n",
        "    'X': [1, 2, 3, 4, 5],\n",
        "    'Y': [20, 11, 31, 40, 17],\n",
        "    'Z': [4, 7, 22, 15, 44],\n",
        "    'Label': ['A', 'B', 'C', 'D', 'E']\n",
        "})\n",
        "\n",
        "# Create a 3D scatter plot\n",
        "fig = px.scatter_3d(df, x='X', y='Y', z='Z', color='Label', title='3D Scatter Plot')\n",
        "\n",
        "# Display the plot\n",
        "fig.show()"
      ],
      "metadata": {
        "colab": {
          "base_uri": "https://localhost:8080/",
          "height": 542
        },
        "id": "uZ8yrydFJSNl",
        "outputId": "21c499c9-94fc-4d0e-adae-dee93772e0ce"
      },
      "execution_count": 28,
      "outputs": [
        {
          "output_type": "display_data",
          "data": {
            "text/html": [
              "<html>\n",
              "<head><meta charset=\"utf-8\" /></head>\n",
              "<body>\n",
              "    <div>            <script src=\"https://cdnjs.cloudflare.com/ajax/libs/mathjax/2.7.5/MathJax.js?config=TeX-AMS-MML_SVG\"></script><script type=\"text/javascript\">if (window.MathJax && window.MathJax.Hub && window.MathJax.Hub.Config) {window.MathJax.Hub.Config({SVG: {font: \"STIX-Web\"}});}</script>                <script type=\"text/javascript\">window.PlotlyConfig = {MathJaxConfig: 'local'};</script>\n",
              "        <script charset=\"utf-8\" src=\"https://cdn.plot.ly/plotly-2.35.2.min.js\"></script>                <div id=\"daf49a52-b169-47dc-ae05-8407b2516c08\" class=\"plotly-graph-div\" style=\"height:525px; width:100%;\"></div>            <script type=\"text/javascript\">                                    window.PLOTLYENV=window.PLOTLYENV || {};                                    if (document.getElementById(\"daf49a52-b169-47dc-ae05-8407b2516c08\")) {                    Plotly.newPlot(                        \"daf49a52-b169-47dc-ae05-8407b2516c08\",                        [{\"hovertemplate\":\"Label=A\\u003cbr\\u003eX=%{x}\\u003cbr\\u003eY=%{y}\\u003cbr\\u003eZ=%{z}\\u003cextra\\u003e\\u003c\\u002fextra\\u003e\",\"legendgroup\":\"A\",\"marker\":{\"color\":\"#636efa\",\"symbol\":\"circle\"},\"mode\":\"markers\",\"name\":\"A\",\"scene\":\"scene\",\"showlegend\":true,\"x\":[1],\"y\":[20],\"z\":[4],\"type\":\"scatter3d\"},{\"hovertemplate\":\"Label=B\\u003cbr\\u003eX=%{x}\\u003cbr\\u003eY=%{y}\\u003cbr\\u003eZ=%{z}\\u003cextra\\u003e\\u003c\\u002fextra\\u003e\",\"legendgroup\":\"B\",\"marker\":{\"color\":\"#EF553B\",\"symbol\":\"circle\"},\"mode\":\"markers\",\"name\":\"B\",\"scene\":\"scene\",\"showlegend\":true,\"x\":[2],\"y\":[11],\"z\":[7],\"type\":\"scatter3d\"},{\"hovertemplate\":\"Label=C\\u003cbr\\u003eX=%{x}\\u003cbr\\u003eY=%{y}\\u003cbr\\u003eZ=%{z}\\u003cextra\\u003e\\u003c\\u002fextra\\u003e\",\"legendgroup\":\"C\",\"marker\":{\"color\":\"#00cc96\",\"symbol\":\"circle\"},\"mode\":\"markers\",\"name\":\"C\",\"scene\":\"scene\",\"showlegend\":true,\"x\":[3],\"y\":[31],\"z\":[22],\"type\":\"scatter3d\"},{\"hovertemplate\":\"Label=D\\u003cbr\\u003eX=%{x}\\u003cbr\\u003eY=%{y}\\u003cbr\\u003eZ=%{z}\\u003cextra\\u003e\\u003c\\u002fextra\\u003e\",\"legendgroup\":\"D\",\"marker\":{\"color\":\"#ab63fa\",\"symbol\":\"circle\"},\"mode\":\"markers\",\"name\":\"D\",\"scene\":\"scene\",\"showlegend\":true,\"x\":[4],\"y\":[40],\"z\":[15],\"type\":\"scatter3d\"},{\"hovertemplate\":\"Label=E\\u003cbr\\u003eX=%{x}\\u003cbr\\u003eY=%{y}\\u003cbr\\u003eZ=%{z}\\u003cextra\\u003e\\u003c\\u002fextra\\u003e\",\"legendgroup\":\"E\",\"marker\":{\"color\":\"#FFA15A\",\"symbol\":\"circle\"},\"mode\":\"markers\",\"name\":\"E\",\"scene\":\"scene\",\"showlegend\":true,\"x\":[5],\"y\":[17],\"z\":[44],\"type\":\"scatter3d\"}],                        {\"template\":{\"data\":{\"histogram2dcontour\":[{\"type\":\"histogram2dcontour\",\"colorbar\":{\"outlinewidth\":0,\"ticks\":\"\"},\"colorscale\":[[0.0,\"#0d0887\"],[0.1111111111111111,\"#46039f\"],[0.2222222222222222,\"#7201a8\"],[0.3333333333333333,\"#9c179e\"],[0.4444444444444444,\"#bd3786\"],[0.5555555555555556,\"#d8576b\"],[0.6666666666666666,\"#ed7953\"],[0.7777777777777778,\"#fb9f3a\"],[0.8888888888888888,\"#fdca26\"],[1.0,\"#f0f921\"]]}],\"choropleth\":[{\"type\":\"choropleth\",\"colorbar\":{\"outlinewidth\":0,\"ticks\":\"\"}}],\"histogram2d\":[{\"type\":\"histogram2d\",\"colorbar\":{\"outlinewidth\":0,\"ticks\":\"\"},\"colorscale\":[[0.0,\"#0d0887\"],[0.1111111111111111,\"#46039f\"],[0.2222222222222222,\"#7201a8\"],[0.3333333333333333,\"#9c179e\"],[0.4444444444444444,\"#bd3786\"],[0.5555555555555556,\"#d8576b\"],[0.6666666666666666,\"#ed7953\"],[0.7777777777777778,\"#fb9f3a\"],[0.8888888888888888,\"#fdca26\"],[1.0,\"#f0f921\"]]}],\"heatmap\":[{\"type\":\"heatmap\",\"colorbar\":{\"outlinewidth\":0,\"ticks\":\"\"},\"colorscale\":[[0.0,\"#0d0887\"],[0.1111111111111111,\"#46039f\"],[0.2222222222222222,\"#7201a8\"],[0.3333333333333333,\"#9c179e\"],[0.4444444444444444,\"#bd3786\"],[0.5555555555555556,\"#d8576b\"],[0.6666666666666666,\"#ed7953\"],[0.7777777777777778,\"#fb9f3a\"],[0.8888888888888888,\"#fdca26\"],[1.0,\"#f0f921\"]]}],\"heatmapgl\":[{\"type\":\"heatmapgl\",\"colorbar\":{\"outlinewidth\":0,\"ticks\":\"\"},\"colorscale\":[[0.0,\"#0d0887\"],[0.1111111111111111,\"#46039f\"],[0.2222222222222222,\"#7201a8\"],[0.3333333333333333,\"#9c179e\"],[0.4444444444444444,\"#bd3786\"],[0.5555555555555556,\"#d8576b\"],[0.6666666666666666,\"#ed7953\"],[0.7777777777777778,\"#fb9f3a\"],[0.8888888888888888,\"#fdca26\"],[1.0,\"#f0f921\"]]}],\"contourcarpet\":[{\"type\":\"contourcarpet\",\"colorbar\":{\"outlinewidth\":0,\"ticks\":\"\"}}],\"contour\":[{\"type\":\"contour\",\"colorbar\":{\"outlinewidth\":0,\"ticks\":\"\"},\"colorscale\":[[0.0,\"#0d0887\"],[0.1111111111111111,\"#46039f\"],[0.2222222222222222,\"#7201a8\"],[0.3333333333333333,\"#9c179e\"],[0.4444444444444444,\"#bd3786\"],[0.5555555555555556,\"#d8576b\"],[0.6666666666666666,\"#ed7953\"],[0.7777777777777778,\"#fb9f3a\"],[0.8888888888888888,\"#fdca26\"],[1.0,\"#f0f921\"]]}],\"surface\":[{\"type\":\"surface\",\"colorbar\":{\"outlinewidth\":0,\"ticks\":\"\"},\"colorscale\":[[0.0,\"#0d0887\"],[0.1111111111111111,\"#46039f\"],[0.2222222222222222,\"#7201a8\"],[0.3333333333333333,\"#9c179e\"],[0.4444444444444444,\"#bd3786\"],[0.5555555555555556,\"#d8576b\"],[0.6666666666666666,\"#ed7953\"],[0.7777777777777778,\"#fb9f3a\"],[0.8888888888888888,\"#fdca26\"],[1.0,\"#f0f921\"]]}],\"mesh3d\":[{\"type\":\"mesh3d\",\"colorbar\":{\"outlinewidth\":0,\"ticks\":\"\"}}],\"scatter\":[{\"fillpattern\":{\"fillmode\":\"overlay\",\"size\":10,\"solidity\":0.2},\"type\":\"scatter\"}],\"parcoords\":[{\"type\":\"parcoords\",\"line\":{\"colorbar\":{\"outlinewidth\":0,\"ticks\":\"\"}}}],\"scatterpolargl\":[{\"type\":\"scatterpolargl\",\"marker\":{\"colorbar\":{\"outlinewidth\":0,\"ticks\":\"\"}}}],\"bar\":[{\"error_x\":{\"color\":\"#2a3f5f\"},\"error_y\":{\"color\":\"#2a3f5f\"},\"marker\":{\"line\":{\"color\":\"#E5ECF6\",\"width\":0.5},\"pattern\":{\"fillmode\":\"overlay\",\"size\":10,\"solidity\":0.2}},\"type\":\"bar\"}],\"scattergeo\":[{\"type\":\"scattergeo\",\"marker\":{\"colorbar\":{\"outlinewidth\":0,\"ticks\":\"\"}}}],\"scatterpolar\":[{\"type\":\"scatterpolar\",\"marker\":{\"colorbar\":{\"outlinewidth\":0,\"ticks\":\"\"}}}],\"histogram\":[{\"marker\":{\"pattern\":{\"fillmode\":\"overlay\",\"size\":10,\"solidity\":0.2}},\"type\":\"histogram\"}],\"scattergl\":[{\"type\":\"scattergl\",\"marker\":{\"colorbar\":{\"outlinewidth\":0,\"ticks\":\"\"}}}],\"scatter3d\":[{\"type\":\"scatter3d\",\"line\":{\"colorbar\":{\"outlinewidth\":0,\"ticks\":\"\"}},\"marker\":{\"colorbar\":{\"outlinewidth\":0,\"ticks\":\"\"}}}],\"scattermapbox\":[{\"type\":\"scattermapbox\",\"marker\":{\"colorbar\":{\"outlinewidth\":0,\"ticks\":\"\"}}}],\"scatterternary\":[{\"type\":\"scatterternary\",\"marker\":{\"colorbar\":{\"outlinewidth\":0,\"ticks\":\"\"}}}],\"scattercarpet\":[{\"type\":\"scattercarpet\",\"marker\":{\"colorbar\":{\"outlinewidth\":0,\"ticks\":\"\"}}}],\"carpet\":[{\"aaxis\":{\"endlinecolor\":\"#2a3f5f\",\"gridcolor\":\"white\",\"linecolor\":\"white\",\"minorgridcolor\":\"white\",\"startlinecolor\":\"#2a3f5f\"},\"baxis\":{\"endlinecolor\":\"#2a3f5f\",\"gridcolor\":\"white\",\"linecolor\":\"white\",\"minorgridcolor\":\"white\",\"startlinecolor\":\"#2a3f5f\"},\"type\":\"carpet\"}],\"table\":[{\"cells\":{\"fill\":{\"color\":\"#EBF0F8\"},\"line\":{\"color\":\"white\"}},\"header\":{\"fill\":{\"color\":\"#C8D4E3\"},\"line\":{\"color\":\"white\"}},\"type\":\"table\"}],\"barpolar\":[{\"marker\":{\"line\":{\"color\":\"#E5ECF6\",\"width\":0.5},\"pattern\":{\"fillmode\":\"overlay\",\"size\":10,\"solidity\":0.2}},\"type\":\"barpolar\"}],\"pie\":[{\"automargin\":true,\"type\":\"pie\"}]},\"layout\":{\"autotypenumbers\":\"strict\",\"colorway\":[\"#636efa\",\"#EF553B\",\"#00cc96\",\"#ab63fa\",\"#FFA15A\",\"#19d3f3\",\"#FF6692\",\"#B6E880\",\"#FF97FF\",\"#FECB52\"],\"font\":{\"color\":\"#2a3f5f\"},\"hovermode\":\"closest\",\"hoverlabel\":{\"align\":\"left\"},\"paper_bgcolor\":\"white\",\"plot_bgcolor\":\"#E5ECF6\",\"polar\":{\"bgcolor\":\"#E5ECF6\",\"angularaxis\":{\"gridcolor\":\"white\",\"linecolor\":\"white\",\"ticks\":\"\"},\"radialaxis\":{\"gridcolor\":\"white\",\"linecolor\":\"white\",\"ticks\":\"\"}},\"ternary\":{\"bgcolor\":\"#E5ECF6\",\"aaxis\":{\"gridcolor\":\"white\",\"linecolor\":\"white\",\"ticks\":\"\"},\"baxis\":{\"gridcolor\":\"white\",\"linecolor\":\"white\",\"ticks\":\"\"},\"caxis\":{\"gridcolor\":\"white\",\"linecolor\":\"white\",\"ticks\":\"\"}},\"coloraxis\":{\"colorbar\":{\"outlinewidth\":0,\"ticks\":\"\"}},\"colorscale\":{\"sequential\":[[0.0,\"#0d0887\"],[0.1111111111111111,\"#46039f\"],[0.2222222222222222,\"#7201a8\"],[0.3333333333333333,\"#9c179e\"],[0.4444444444444444,\"#bd3786\"],[0.5555555555555556,\"#d8576b\"],[0.6666666666666666,\"#ed7953\"],[0.7777777777777778,\"#fb9f3a\"],[0.8888888888888888,\"#fdca26\"],[1.0,\"#f0f921\"]],\"sequentialminus\":[[0.0,\"#0d0887\"],[0.1111111111111111,\"#46039f\"],[0.2222222222222222,\"#7201a8\"],[0.3333333333333333,\"#9c179e\"],[0.4444444444444444,\"#bd3786\"],[0.5555555555555556,\"#d8576b\"],[0.6666666666666666,\"#ed7953\"],[0.7777777777777778,\"#fb9f3a\"],[0.8888888888888888,\"#fdca26\"],[1.0,\"#f0f921\"]],\"diverging\":[[0,\"#8e0152\"],[0.1,\"#c51b7d\"],[0.2,\"#de77ae\"],[0.3,\"#f1b6da\"],[0.4,\"#fde0ef\"],[0.5,\"#f7f7f7\"],[0.6,\"#e6f5d0\"],[0.7,\"#b8e186\"],[0.8,\"#7fbc41\"],[0.9,\"#4d9221\"],[1,\"#276419\"]]},\"xaxis\":{\"gridcolor\":\"white\",\"linecolor\":\"white\",\"ticks\":\"\",\"title\":{\"standoff\":15},\"zerolinecolor\":\"white\",\"automargin\":true,\"zerolinewidth\":2},\"yaxis\":{\"gridcolor\":\"white\",\"linecolor\":\"white\",\"ticks\":\"\",\"title\":{\"standoff\":15},\"zerolinecolor\":\"white\",\"automargin\":true,\"zerolinewidth\":2},\"scene\":{\"xaxis\":{\"backgroundcolor\":\"#E5ECF6\",\"gridcolor\":\"white\",\"linecolor\":\"white\",\"showbackground\":true,\"ticks\":\"\",\"zerolinecolor\":\"white\",\"gridwidth\":2},\"yaxis\":{\"backgroundcolor\":\"#E5ECF6\",\"gridcolor\":\"white\",\"linecolor\":\"white\",\"showbackground\":true,\"ticks\":\"\",\"zerolinecolor\":\"white\",\"gridwidth\":2},\"zaxis\":{\"backgroundcolor\":\"#E5ECF6\",\"gridcolor\":\"white\",\"linecolor\":\"white\",\"showbackground\":true,\"ticks\":\"\",\"zerolinecolor\":\"white\",\"gridwidth\":2}},\"shapedefaults\":{\"line\":{\"color\":\"#2a3f5f\"}},\"annotationdefaults\":{\"arrowcolor\":\"#2a3f5f\",\"arrowhead\":0,\"arrowwidth\":1},\"geo\":{\"bgcolor\":\"white\",\"landcolor\":\"#E5ECF6\",\"subunitcolor\":\"white\",\"showland\":true,\"showlakes\":true,\"lakecolor\":\"white\"},\"title\":{\"x\":0.05},\"mapbox\":{\"style\":\"light\"}}},\"scene\":{\"domain\":{\"x\":[0.0,1.0],\"y\":[0.0,1.0]},\"xaxis\":{\"title\":{\"text\":\"X\"}},\"yaxis\":{\"title\":{\"text\":\"Y\"}},\"zaxis\":{\"title\":{\"text\":\"Z\"}}},\"legend\":{\"title\":{\"text\":\"Label\"},\"tracegroupgap\":0},\"title\":{\"text\":\"3D Scatter Plot\"}},                        {\"responsive\": true}                    ).then(function(){\n",
              "                            \n",
              "var gd = document.getElementById('daf49a52-b169-47dc-ae05-8407b2516c08');\n",
              "var x = new MutationObserver(function (mutations, observer) {{\n",
              "        var display = window.getComputedStyle(gd).display;\n",
              "        if (!display || display === 'none') {{\n",
              "            console.log([gd, 'removed!']);\n",
              "            Plotly.purge(gd);\n",
              "            observer.disconnect();\n",
              "        }}\n",
              "}});\n",
              "\n",
              "// Listen for the removal of the full notebook cells\n",
              "var notebookContainer = gd.closest('#notebook-container');\n",
              "if (notebookContainer) {{\n",
              "    x.observe(notebookContainer, {childList: true});\n",
              "}}\n",
              "\n",
              "// Listen for the clearing of the current output cell\n",
              "var outputEl = gd.closest('.output');\n",
              "if (outputEl) {{\n",
              "    x.observe(outputEl, {childList: true});\n",
              "}}\n",
              "\n",
              "                        })                };                            </script>        </div>\n",
              "</body>\n",
              "</html>"
            ]
          },
          "metadata": {}
        }
      ]
    }
  ]
}